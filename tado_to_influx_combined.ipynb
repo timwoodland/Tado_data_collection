{
 "cells": [
  {
   "cell_type": "code",
   "execution_count": 472,
   "metadata": {},
   "outputs": [],
   "source": [
    "import requests\n",
    "import json\n",
    "import numpy as np\n",
    "import pandas as pd\n",
    "from datetime import datetime\n",
    "from influxdb_client import InfluxDBClient"
   ]
  },
  {
   "cell_type": "markdown",
   "metadata": {},
   "source": [
    "### Set the time for Now"
   ]
  },
  {
   "cell_type": "code",
   "execution_count": 473,
   "metadata": {},
   "outputs": [],
   "source": [
    "now = datetime.utcnow()"
   ]
  },
  {
   "cell_type": "markdown",
   "metadata": {},
   "source": [
    "### Get bearer token"
   ]
  },
  {
   "cell_type": "code",
   "execution_count": 474,
   "metadata": {},
   "outputs": [],
   "source": [
    "username = \"timothy_woodland@outlook.com\"\n",
    "password = \"@j-tLtrR8F\"\n",
    "client_secret = 'wZaRN7rpjn3FoNyF5IFuxg9uMzYJcvOoQ8QWiIqS3hfk6gLhVlG57j5YNoZL2Rtc'"
   ]
  },
  {
   "cell_type": "code",
   "execution_count": 475,
   "metadata": {},
   "outputs": [],
   "source": [
    "payload = {'client_id':'tado-web-app',\n",
    "            'grant_type':'password',\n",
    "            'scope':'home.user',\n",
    "            'username':username,\n",
    "            'password':password,\n",
    "            'client_secret':client_secret}"
   ]
  },
  {
   "cell_type": "code",
   "execution_count": 476,
   "metadata": {},
   "outputs": [],
   "source": [
    "token_r = requests.post('https://auth.tado.com/oauth/token', params=payload)\n",
    "token = token_r.json()[\"access_token\"]\n",
    "# print(token)"
   ]
  },
  {
   "cell_type": "markdown",
   "metadata": {},
   "source": [
    "### Set Header for future Requests"
   ]
  },
  {
   "cell_type": "code",
   "execution_count": 477,
   "metadata": {},
   "outputs": [],
   "source": [
    "header = {'Authorization' : \"Bearer \" + token}"
   ]
  },
  {
   "cell_type": "markdown",
   "metadata": {},
   "source": [
    "### Get Home ID"
   ]
  },
  {
   "cell_type": "code",
   "execution_count": 478,
   "metadata": {},
   "outputs": [],
   "source": [
    "home_id_r = requests.get(\"https://my.tado.com/api/v1/me\", headers = header)\n",
    "home_id = home_id_r.json()['homeId']\n",
    "# print(home_id)"
   ]
  },
  {
   "cell_type": "markdown",
   "metadata": {},
   "source": [
    "### Get name of home"
   ]
  },
  {
   "cell_type": "code",
   "execution_count": 479,
   "metadata": {},
   "outputs": [],
   "source": [
    "home_url = \"https://my.tado.com/api/v2/homes/\"+str(home_id)\n",
    "home_r = requests.get(home_url , headers = header)"
   ]
  },
  {
   "cell_type": "code",
   "execution_count": 480,
   "metadata": {},
   "outputs": [],
   "source": [
    "home = home_r.json()[\"name\"]"
   ]
  },
  {
   "cell_type": "markdown",
   "metadata": {},
   "source": [
    "### Get zone data"
   ]
  },
  {
   "cell_type": "code",
   "execution_count": 481,
   "metadata": {},
   "outputs": [],
   "source": [
    "zones_list_url = home_url+\"/zones\""
   ]
  },
  {
   "cell_type": "code",
   "execution_count": 482,
   "metadata": {},
   "outputs": [],
   "source": [
    "zone_list_r = requests.get(zones_list_url , headers = header)"
   ]
  },
  {
   "cell_type": "code",
   "execution_count": 483,
   "metadata": {},
   "outputs": [],
   "source": [
    "zone_list_json = zone_list_r.json()\n",
    "# print(json.dumps(zone_list_json, indent=1))"
   ]
  },
  {
   "cell_type": "code",
   "execution_count": 484,
   "metadata": {},
   "outputs": [],
   "source": [
    "zone_list = []\n",
    "zone_dict = {}\n",
    "counter = 1\n",
    "\n",
    "\n",
    "for zone_data in zone_list_json:\n",
    "    zone_id = zone_data[\"id\"]\n",
    "    zone_name = zone_data[\"name\"]\n",
    "\n",
    "    zone_list.append(zone_id)\n",
    "    \n",
    "    zone_dict[zone_id] = {\"time\":str(now), \"zone\":zone_name}\n",
    "\n",
    "    counter = counter + 1"
   ]
  },
  {
   "cell_type": "markdown",
   "metadata": {},
   "source": [
    "### Get data from each zone and put into a dataframe"
   ]
  },
  {
   "cell_type": "code",
   "execution_count": 485,
   "metadata": {},
   "outputs": [],
   "source": [
    "for zone in zone_list:\n",
    "    zone_url = zones_list_url+\"/\"+str(zone)+\"/state\"\n",
    "    zone_r = requests.get(zone_url, headers = header)\n",
    "    zone_json = zone_r.json()\n",
    "\n",
    "    status = zone_json[\"setting\"][\"power\"]\n",
    "    mode = zone_json[\"tadoMode\"]\n",
    "    geo_override = zone_json[\"geolocationOverride\"]\n",
    "    type = zone_json[\"setting\"][\"type\"]\n",
    "    status = zone_json[\"setting\"][\"power\"]\n",
    "    power_level = zone_json[\"activityDataPoints\"][\"heatingPower\"][\"percentage\"]\n",
    "    zone_temp = zone_json[\"sensorDataPoints\"][\"insideTemperature\"][\"celsius\"]\n",
    "    zone_humidity = zone_json[\"sensorDataPoints\"][\"humidity\"][\"percentage\"]\n",
    "\n",
    "#this checks that the status of the zone is \"on\". If the zone is not on then a \"set_temp\" value will not be available so we use no.nan\n",
    "    if status == \"ON\":\n",
    "        set_temp = zone_json[\"setting\"][\"temperature\"][\"celsius\"]\n",
    "    else:\n",
    "        set_temp = np.nan\n",
    "\n",
    "    zone_data_dict = {\"mode\":mode, \"geo_override\":geo_override, \"type\":type, \"status\":status, \"set_temp\":set_temp, \"power_level\":power_level, \"zone_temp\":zone_temp, \"zone_humidity\":zone_humidity }\n",
    "\n",
    "    zone_dict[zone].update(zone_data_dict)\n",
    "    "
   ]
  },
  {
   "cell_type": "code",
   "execution_count": 486,
   "metadata": {},
   "outputs": [],
   "source": [
    "zone_df = pd.DataFrame.from_dict(zone_dict, orient=\"index\")"
   ]
  },
  {
   "cell_type": "code",
   "execution_count": 487,
   "metadata": {},
   "outputs": [],
   "source": [
    "zone_df = zone_df.reset_index()\n",
    "zone_df= zone_df.rename(columns={\"index\":\"zone_id\"})"
   ]
  },
  {
   "cell_type": "code",
   "execution_count": 488,
   "metadata": {},
   "outputs": [],
   "source": [
    "zone_df = zone_df.set_index(\"time\")"
   ]
  },
  {
   "cell_type": "markdown",
   "metadata": {},
   "source": [
    "### Get Weather data and put into a dataframe"
   ]
  },
  {
   "cell_type": "code",
   "execution_count": 489,
   "metadata": {},
   "outputs": [],
   "source": [
    "weather_url = \"https://my.tado.com/api/v2/homes/\"+str(home_id)+\"/weather\""
   ]
  },
  {
   "cell_type": "code",
   "execution_count": 490,
   "metadata": {},
   "outputs": [],
   "source": [
    "weather_r = requests.get(weather_url , headers = header)"
   ]
  },
  {
   "cell_type": "code",
   "execution_count": 491,
   "metadata": {},
   "outputs": [],
   "source": [
    "weather_json = weather_r.json()"
   ]
  },
  {
   "cell_type": "code",
   "execution_count": 492,
   "metadata": {},
   "outputs": [],
   "source": [
    "weather_data = [weather_json[\"outsideTemperature\"][\"celsius\"], weather_json[\"weatherState\"][\"value\"], \"tado\"]"
   ]
  },
  {
   "cell_type": "code",
   "execution_count": 493,
   "metadata": {},
   "outputs": [],
   "source": [
    "weather_columns = [\"temperature_C\", \"state\", \"source\"]"
   ]
  },
  {
   "cell_type": "code",
   "execution_count": 494,
   "metadata": {},
   "outputs": [],
   "source": [
    "weather_df = pd.DataFrame(data=[weather_data], index=[now], columns=weather_columns)"
   ]
  },
  {
   "cell_type": "markdown",
   "metadata": {},
   "source": [
    "### Write Zone and Weather dataframes to Influx db"
   ]
  },
  {
   "cell_type": "code",
   "execution_count": 495,
   "metadata": {},
   "outputs": [],
   "source": [
    "# db_url = \"http://192.168.10.172:8086\"\n",
    "# with InfluxDBClient(url=db_url) as ifdb_client:\n",
    "#     with ifdb_client.write_api() as ifdb_write_client:\n",
    "\n",
    "#         ifdb_write_client.write(\"testingdb\", org=\"\", record=weather_df, data_frame_measurement_name=\"tado_weather_data\", data_frame_tag_columns=[\"source\"])"
   ]
  },
  {
   "cell_type": "code",
   "execution_count": 496,
   "metadata": {},
   "outputs": [],
   "source": [
    "db_url = \"http://192.168.10.172:8086\"\n",
    "with InfluxDBClient(url=db_url) as ifdb_client:\n",
    "    with ifdb_client.write_api() as ifdb_write_client:\n",
    "\n",
    "        ifdb_write_client.write(\"testingdb\", org=\"\", record=weather_df, data_frame_measurement_name=\"tado_weather_data\", data_frame_tag_columns=[\"source\"])\n",
    "\n",
    "        ifdb_write_client.write(\"testingdb\", org=\"\", record=zone_df, data_frame_measurement_name=\"tado_zone_data\", data_frame_tag_columns=[\"zone_id\", \"zone\", \"mode\", \"geo_override\", \"type\", \"status\"])"
   ]
  }
 ],
 "metadata": {
  "kernelspec": {
   "display_name": "base",
   "language": "python",
   "name": "python3"
  },
  "language_info": {
   "codemirror_mode": {
    "name": "ipython",
    "version": 3
   },
   "file_extension": ".py",
   "mimetype": "text/x-python",
   "name": "python",
   "nbconvert_exporter": "python",
   "pygments_lexer": "ipython3",
   "version": "3.8.18"
  }
 },
 "nbformat": 4,
 "nbformat_minor": 2
}
