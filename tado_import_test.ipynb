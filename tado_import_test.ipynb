{
 "cells": [
  {
   "cell_type": "code",
   "execution_count": 813,
   "metadata": {},
   "outputs": [],
   "source": [
    "import requests\n",
    "import json\n",
    "import pandas as pd\n",
    "from datetime import datetime"
   ]
  },
  {
   "cell_type": "markdown",
   "metadata": {},
   "source": [
    "### Set the time for Now"
   ]
  },
  {
   "cell_type": "code",
   "execution_count": 814,
   "metadata": {},
   "outputs": [],
   "source": [
    "now = datetime.utcnow()"
   ]
  },
  {
   "cell_type": "markdown",
   "metadata": {},
   "source": [
    "### Get bearer token"
   ]
  },
  {
   "cell_type": "code",
   "execution_count": 815,
   "metadata": {},
   "outputs": [],
   "source": [
    "username = \"timothy_woodland@outlook.com\"\n",
    "password = \"@j-tLtrR8F\"\n",
    "client_secret = 'wZaRN7rpjn3FoNyF5IFuxg9uMzYJcvOoQ8QWiIqS3hfk6gLhVlG57j5YNoZL2Rtc'"
   ]
  },
  {
   "cell_type": "code",
   "execution_count": 816,
   "metadata": {},
   "outputs": [],
   "source": [
    "payload = {'client_id':'tado-web-app',\n",
    "            'grant_type':'password',\n",
    "            'scope':'home.user',\n",
    "            'username':username,\n",
    "            'password':password,\n",
    "            'client_secret':client_secret}"
   ]
  },
  {
   "cell_type": "code",
   "execution_count": 817,
   "metadata": {},
   "outputs": [],
   "source": [
    "token_r = requests.post('https://auth.tado.com/oauth/token', params=payload)\n",
    "token = token_r.json()[\"access_token\"]\n",
    "# print(token)"
   ]
  },
  {
   "cell_type": "markdown",
   "metadata": {},
   "source": [
    "### Set Header for future Requests"
   ]
  },
  {
   "cell_type": "code",
   "execution_count": 818,
   "metadata": {},
   "outputs": [],
   "source": [
    "header = {'Authorization' : \"Bearer \" + token}"
   ]
  },
  {
   "cell_type": "markdown",
   "metadata": {},
   "source": [
    "### Get Home ID"
   ]
  },
  {
   "cell_type": "code",
   "execution_count": 819,
   "metadata": {},
   "outputs": [],
   "source": [
    "home_id_r = requests.get(\"https://my.tado.com/api/v1/me\", headers = header)\n",
    "home_id = home_id_r.json()['homeId']\n",
    "# print(home_id)"
   ]
  },
  {
   "cell_type": "markdown",
   "metadata": {},
   "source": [
    "### Get name of home"
   ]
  },
  {
   "cell_type": "code",
   "execution_count": 820,
   "metadata": {},
   "outputs": [],
   "source": [
    "home_url = \"https://my.tado.com/api/v2/homes/\"+str(home_id)\n",
    "home_r = requests.get(home_url , headers = header)"
   ]
  },
  {
   "cell_type": "code",
   "execution_count": 821,
   "metadata": {},
   "outputs": [],
   "source": [
    "home = home_r.json()[\"name\"]"
   ]
  },
  {
   "cell_type": "code",
   "execution_count": 822,
   "metadata": {},
   "outputs": [
    {
     "name": "stdout",
     "output_type": "stream",
     "text": [
      "Leslie Road\n"
     ]
    }
   ],
   "source": [
    "print(home)"
   ]
  },
  {
   "cell_type": "markdown",
   "metadata": {},
   "source": [
    "### Get zone data"
   ]
  },
  {
   "cell_type": "code",
   "execution_count": 823,
   "metadata": {},
   "outputs": [],
   "source": [
    "zones_list_url = home_url+\"/zones\""
   ]
  },
  {
   "cell_type": "code",
   "execution_count": 824,
   "metadata": {},
   "outputs": [],
   "source": [
    "zone_list_r = requests.get(zones_list_url , headers = header)"
   ]
  },
  {
   "cell_type": "code",
   "execution_count": 825,
   "metadata": {},
   "outputs": [],
   "source": [
    "zone_list_json = zone_list_r.json()\n",
    "# print(json.dumps(zone_list_json, indent=1))"
   ]
  },
  {
   "cell_type": "code",
   "execution_count": 826,
   "metadata": {},
   "outputs": [],
   "source": [
    "zone_list = []\n",
    "zone_dict = {}\n",
    "counter = 1\n",
    "\n",
    "\n",
    "for zone_data in zone_list_json:\n",
    "    zone_id = zone_data[\"id\"]\n",
    "    zone_name = zone_data[\"name\"]\n",
    "\n",
    "    zone_list.append(zone_id)\n",
    "    \n",
    "    zone_dict[zone_id] = [now, zone_name]\n",
    "\n",
    "    counter = counter + 1\n"
   ]
  },
  {
   "cell_type": "code",
   "execution_count": 827,
   "metadata": {},
   "outputs": [],
   "source": [
    "for zone in zone_list:\n",
    "    url = url+\"/\"+str(zone)+\"/state\"\n",
    "    # header = {'Authorization' : \"Bearer \" + token}\n",
    "    "
   ]
  },
  {
   "cell_type": "markdown",
   "metadata": {},
   "source": [
    "### Get data from a Zone"
   ]
  },
  {
   "cell_type": "code",
   "execution_count": 828,
   "metadata": {},
   "outputs": [],
   "source": [
    "zone = 1"
   ]
  },
  {
   "cell_type": "code",
   "execution_count": 829,
   "metadata": {},
   "outputs": [],
   "source": [
    "zone_url = zones_list_url+\"/\"+str(zone)+\"/state\""
   ]
  },
  {
   "cell_type": "code",
   "execution_count": 830,
   "metadata": {},
   "outputs": [],
   "source": [
    "zone_r = requests.get(zone_url , headers = header)"
   ]
  },
  {
   "cell_type": "code",
   "execution_count": 831,
   "metadata": {},
   "outputs": [],
   "source": [
    "zone_json = zone_r.json()"
   ]
  },
  {
   "cell_type": "code",
   "execution_count": 832,
   "metadata": {},
   "outputs": [
    {
     "name": "stdout",
     "output_type": "stream",
     "text": [
      "{'tadoMode': 'HOME', 'geolocationOverride': False, 'geolocationOverrideDisableTime': None, 'preparation': None, 'setting': {'type': 'HEATING', 'power': 'ON', 'temperature': {'celsius': 20.0, 'fahrenheit': 68.0}}, 'overlayType': None, 'overlay': None, 'openWindow': None, 'nextScheduleChange': {'start': '2023-12-16T17:00:00Z', 'setting': {'type': 'HEATING', 'power': 'ON', 'temperature': {'celsius': 21.0, 'fahrenheit': 69.8}}}, 'nextTimeBlock': {'start': '2023-12-16T17:00:00.000Z'}, 'link': {'state': 'ONLINE'}, 'activityDataPoints': {'heatingPower': {'type': 'PERCENTAGE', 'percentage': 0.0, 'timestamp': '2023-12-16T10:16:21.718Z'}}, 'sensorDataPoints': {'insideTemperature': {'celsius': 20.03, 'fahrenheit': 68.05, 'timestamp': '2023-12-16T10:12:33.091Z', 'type': 'TEMPERATURE', 'precision': {'celsius': 0.1, 'fahrenheit': 0.1}}, 'humidity': {'type': 'PERCENTAGE', 'percentage': 60.5, 'timestamp': '2023-12-16T10:12:33.091Z'}}}\n"
     ]
    }
   ],
   "source": [
    "print(zone_json)"
   ]
  },
  {
   "cell_type": "code",
   "execution_count": 833,
   "metadata": {},
   "outputs": [],
   "source": [
    "mode = zone_json[\"tadoMode\"]\n",
    "geo_override = zone_json[\"geolocationOverride\"]\n",
    "type = zone_json[\"setting\"][\"type\"]\n",
    "status = zone_json[\"setting\"][\"power\"]\n",
    "set_temp = zone_json[\"setting\"][\"temperature\"][\"celsius\"]\n",
    "power_level = zone_json[\"activityDataPoints\"][\"heatingPower\"][\"percentage\"]\n",
    "zone_temp = zone_json[\"sensorDataPoints\"][\"insideTemperature\"][\"celsius\"]\n",
    "zone_temp = zone_json[\"sensorDataPoints\"][\"humidity\"][\"percentage\"]"
   ]
  },
  {
   "cell_type": "code",
   "execution_count": 834,
   "metadata": {},
   "outputs": [],
   "source": [
    "zone_temp = zone_json[\"sensorDataPoints\"][\"humidity\"][\"percentage\"]"
   ]
  },
  {
   "cell_type": "code",
   "execution_count": 835,
   "metadata": {},
   "outputs": [
    {
     "name": "stdout",
     "output_type": "stream",
     "text": [
      "{\n",
      "  \"tadoMode\": \"HOME\",\n",
      "  \"geolocationOverride\": false,\n",
      "  \"geolocationOverrideDisableTime\": null,\n",
      "  \"preparation\": null,\n",
      "  \"setting\": {\n",
      "    \"type\": \"HEATING\",\n",
      "    \"power\": \"ON\",\n",
      "    \"temperature\": {\n",
      "      \"celsius\": 20.0,\n",
      "      \"fahrenheit\": 68.0\n",
      "    }\n",
      "  },\n",
      "  \"overlayType\": null,\n",
      "  \"overlay\": null,\n",
      "  \"openWindow\": null,\n",
      "  \"nextScheduleChange\": {\n",
      "    \"start\": \"2023-12-16T17:00:00Z\",\n",
      "    \"setting\": {\n",
      "      \"type\": \"HEATING\",\n",
      "      \"power\": \"ON\",\n",
      "      \"temperature\": {\n",
      "        \"celsius\": 21.0,\n",
      "        \"fahrenheit\": 69.8\n",
      "      }\n",
      "    }\n",
      "  },\n",
      "  \"nextTimeBlock\": {\n",
      "    \"start\": \"2023-12-16T17:00:00.000Z\"\n",
      "  },\n",
      "  \"link\": {\n",
      "    \"state\": \"ONLINE\"\n",
      "  },\n",
      "  \"activityDataPoints\": {\n",
      "    \"heatingPower\": {\n",
      "      \"type\": \"PERCENTAGE\",\n",
      "      \"percentage\": 0.0,\n",
      "      \"timestamp\": \"2023-12-16T10:16:21.718Z\"\n",
      "    }\n",
      "  },\n",
      "  \"sensorDataPoints\": {\n",
      "    \"insideTemperature\": {\n",
      "      \"celsius\": 20.03,\n",
      "      \"fahrenheit\": 68.05,\n",
      "      \"timestamp\": \"2023-12-16T10:12:33.091Z\",\n",
      "      \"type\": \"TEMPERATURE\",\n",
      "      \"precision\": {\n",
      "        \"celsius\": 0.1,\n",
      "        \"fahrenheit\": 0.1\n",
      "      }\n",
      "    },\n",
      "    \"humidity\": {\n",
      "      \"type\": \"PERCENTAGE\",\n",
      "      \"percentage\": 60.5,\n",
      "      \"timestamp\": \"2023-12-16T10:12:33.091Z\"\n",
      "    }\n",
      "  }\n",
      "}\n"
     ]
    }
   ],
   "source": [
    "print(json.dumps(zone_r.json(), indent=2))"
   ]
  },
  {
   "cell_type": "code",
   "execution_count": 836,
   "metadata": {},
   "outputs": [],
   "source": [
    "json_test = zone_r.json()"
   ]
  },
  {
   "cell_type": "code",
   "execution_count": 837,
   "metadata": {},
   "outputs": [
    {
     "data": {
      "text/plain": [
       "20.03"
      ]
     },
     "execution_count": 837,
     "metadata": {},
     "output_type": "execute_result"
    }
   ],
   "source": [
    "json_test[\"sensorDataPoints\"][\"insideTemperature\"][\"celsius\"]"
   ]
  },
  {
   "cell_type": "code",
   "execution_count": 838,
   "metadata": {},
   "outputs": [
    {
     "data": {
      "text/plain": [
       "60.5"
      ]
     },
     "execution_count": 838,
     "metadata": {},
     "output_type": "execute_result"
    }
   ],
   "source": [
    "json_test[\"sensorDataPoints\"][\"humidity\"][\"percentage\"]"
   ]
  },
  {
   "cell_type": "markdown",
   "metadata": {},
   "source": [
    "### Test Weather"
   ]
  },
  {
   "cell_type": "code",
   "execution_count": 839,
   "metadata": {},
   "outputs": [],
   "source": [
    "weather_url = \"https://my.tado.com/api/v2/homes/\"+str(home_id)+\"/weather\""
   ]
  },
  {
   "cell_type": "code",
   "execution_count": 840,
   "metadata": {},
   "outputs": [],
   "source": [
    "r = requests.get(weather_url , headers = header)"
   ]
  },
  {
   "cell_type": "code",
   "execution_count": 841,
   "metadata": {},
   "outputs": [],
   "source": [
    "# print(json.dumps(r.json(), indent=2))"
   ]
  },
  {
   "cell_type": "code",
   "execution_count": 842,
   "metadata": {},
   "outputs": [],
   "source": [
    "test_json = r.json()"
   ]
  },
  {
   "cell_type": "code",
   "execution_count": 843,
   "metadata": {},
   "outputs": [],
   "source": [
    "json_df = pd.DataFrame.from_dict(test_json)"
   ]
  },
  {
   "cell_type": "code",
   "execution_count": 845,
   "metadata": {},
   "outputs": [
    {
     "data": {
      "text/plain": [
       "'CLOUDY'"
      ]
     },
     "execution_count": 845,
     "metadata": {},
     "output_type": "execute_result"
    }
   ],
   "source": [
    "test_json[\"weatherState\"][\"value\"]"
   ]
  },
  {
   "cell_type": "code",
   "execution_count": 846,
   "metadata": {},
   "outputs": [
    {
     "data": {
      "text/plain": [
       "10.03"
      ]
     },
     "execution_count": 846,
     "metadata": {},
     "output_type": "execute_result"
    }
   ],
   "source": [
    "test_json[\"outsideTemperature\"][\"celsius\"]"
   ]
  },
  {
   "cell_type": "markdown",
   "metadata": {},
   "source": [
    "### Get Weather and Build df"
   ]
  },
  {
   "cell_type": "code",
   "execution_count": 847,
   "metadata": {},
   "outputs": [],
   "source": [
    "weather_json = r.json()"
   ]
  },
  {
   "cell_type": "code",
   "execution_count": 848,
   "metadata": {},
   "outputs": [],
   "source": [
    "weather_data = [weather_json[\"outsideTemperature\"][\"celsius\"], weather_json[\"weatherState\"][\"value\"], \"tado\"]"
   ]
  },
  {
   "cell_type": "code",
   "execution_count": 849,
   "metadata": {},
   "outputs": [],
   "source": [
    "weather_columns = [\"temperature_C\", \"state\", \"source\"]"
   ]
  },
  {
   "cell_type": "code",
   "execution_count": 850,
   "metadata": {},
   "outputs": [],
   "source": [
    "weather_df = pd.DataFrame(data=[weather_data], index=[now], columns=weather_columns)"
   ]
  }
 ],
 "metadata": {
  "kernelspec": {
   "display_name": "base",
   "language": "python",
   "name": "python3"
  },
  "language_info": {
   "codemirror_mode": {
    "name": "ipython",
    "version": 3
   },
   "file_extension": ".py",
   "mimetype": "text/x-python",
   "name": "python",
   "nbconvert_exporter": "python",
   "pygments_lexer": "ipython3",
   "version": "3.8.18"
  }
 },
 "nbformat": 4,
 "nbformat_minor": 2
}
