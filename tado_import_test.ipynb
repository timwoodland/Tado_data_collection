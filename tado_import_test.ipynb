{
 "cells": [
  {
   "cell_type": "code",
   "execution_count": 521,
   "metadata": {},
   "outputs": [],
   "source": [
    "import requests\n",
    "import json\n",
    "import pandas as pd\n",
    "from datetime import datetime"
   ]
  },
  {
   "cell_type": "markdown",
   "metadata": {},
   "source": [
    "### Set the time for Now"
   ]
  },
  {
   "cell_type": "code",
   "execution_count": 522,
   "metadata": {},
   "outputs": [],
   "source": [
    "now = datetime.utcnow()"
   ]
  },
  {
   "cell_type": "markdown",
   "metadata": {},
   "source": [
    "### Get bearer token"
   ]
  },
  {
   "cell_type": "code",
   "execution_count": 523,
   "metadata": {},
   "outputs": [],
   "source": [
    "username = \"timothy_woodland@outlook.com\"\n",
    "password = \"@j-tLtrR8F\"\n",
    "client_secret = 'wZaRN7rpjn3FoNyF5IFuxg9uMzYJcvOoQ8QWiIqS3hfk6gLhVlG57j5YNoZL2Rtc'"
   ]
  },
  {
   "cell_type": "code",
   "execution_count": 524,
   "metadata": {},
   "outputs": [],
   "source": [
    "payload = {'client_id':'tado-web-app',\n",
    "            'grant_type':'password',\n",
    "            'scope':'home.user',\n",
    "            'username':username,\n",
    "            'password':password,\n",
    "            'client_secret':client_secret}"
   ]
  },
  {
   "cell_type": "code",
   "execution_count": 525,
   "metadata": {},
   "outputs": [],
   "source": [
    "token_r = requests.post('https://auth.tado.com/oauth/token', params=payload)\n",
    "token = token_r.json()[\"access_token\"]\n",
    "# print(token)"
   ]
  },
  {
   "cell_type": "markdown",
   "metadata": {},
   "source": [
    "### Set Header for future Requests"
   ]
  },
  {
   "cell_type": "code",
   "execution_count": 526,
   "metadata": {},
   "outputs": [],
   "source": [
    "header = {'Authorization' : \"Bearer \" + token}"
   ]
  },
  {
   "cell_type": "markdown",
   "metadata": {},
   "source": [
    "### Get Home ID"
   ]
  },
  {
   "cell_type": "code",
   "execution_count": 527,
   "metadata": {},
   "outputs": [],
   "source": [
    "home_id_r = requests.get(\"https://my.tado.com/api/v1/me\", headers = header)\n",
    "home_id = home_id_r.json()['homeId']\n",
    "# print(home_id)"
   ]
  },
  {
   "cell_type": "markdown",
   "metadata": {},
   "source": [
    "### Get name of home"
   ]
  },
  {
   "cell_type": "code",
   "execution_count": 528,
   "metadata": {},
   "outputs": [],
   "source": [
    "home_url = \"https://my.tado.com/api/v2/homes/\"+str(home_id)\n",
    "home_r = requests.get(home_url , headers = header)"
   ]
  },
  {
   "cell_type": "code",
   "execution_count": 529,
   "metadata": {},
   "outputs": [],
   "source": [
    "home = home_r.json()[\"name\"]"
   ]
  },
  {
   "cell_type": "code",
   "execution_count": 530,
   "metadata": {},
   "outputs": [
    {
     "name": "stdout",
     "output_type": "stream",
     "text": [
      "Leslie Road\n"
     ]
    }
   ],
   "source": [
    "print(home)"
   ]
  },
  {
   "cell_type": "markdown",
   "metadata": {},
   "source": [
    "### Get zone data"
   ]
  },
  {
   "cell_type": "code",
   "execution_count": 531,
   "metadata": {},
   "outputs": [],
   "source": [
    "zones_list_url = home_url+\"/zones\""
   ]
  },
  {
   "cell_type": "code",
   "execution_count": 532,
   "metadata": {},
   "outputs": [],
   "source": [
    "zone_list_r = requests.get(zones_list_url , headers = header)"
   ]
  },
  {
   "cell_type": "code",
   "execution_count": 533,
   "metadata": {},
   "outputs": [],
   "source": [
    "zone_list_json = zone_list_r.json()\n",
    "# print(json.dumps(zone_list_json, indent=1))"
   ]
  },
  {
   "cell_type": "code",
   "execution_count": 534,
   "metadata": {},
   "outputs": [],
   "source": [
    "zone_list = []\n",
    "zone_dict = {}\n",
    "counter = 1\n",
    "\n",
    "\n",
    "for zone_data in zone_list_json:\n",
    "    zone_id = zone_data[\"id\"]\n",
    "    zone_name = zone_data[\"name\"]\n",
    "\n",
    "    zone_list.append(zone_id)\n",
    "    \n",
    "    zone_dict[zone_id] = {\"time\":str(now), \"zone\":zone_name}\n",
    "\n",
    "    counter = counter + 1"
   ]
  },
  {
   "cell_type": "markdown",
   "metadata": {},
   "source": [
    "### Get data from each zone and put into a dataframe"
   ]
  },
  {
   "cell_type": "code",
   "execution_count": 536,
   "metadata": {},
   "outputs": [],
   "source": [
    "for zone in zone_list:\n",
    "    zone_url = zones_list_url+\"/\"+str(zone)+\"/state\"\n",
    "    zone_r = requests.get(zone_url, headers = header)\n",
    "    zone_json = zone_r.json()\n",
    "\n",
    "    mode = zone_json[\"tadoMode\"]\n",
    "    geo_override = zone_json[\"geolocationOverride\"]\n",
    "    type = zone_json[\"setting\"][\"type\"]\n",
    "    status = zone_json[\"setting\"][\"power\"]\n",
    "    set_temp = zone_json[\"setting\"][\"temperature\"][\"celsius\"]\n",
    "    power_level = zone_json[\"activityDataPoints\"][\"heatingPower\"][\"percentage\"]\n",
    "    zone_temp = zone_json[\"sensorDataPoints\"][\"insideTemperature\"][\"celsius\"]\n",
    "    zone_humidity = zone_json[\"sensorDataPoints\"][\"humidity\"][\"percentage\"]\n",
    "\n",
    "    zone_data_dict = {\"mode\":mode, \"geo_override\":geo_override, \"type\":type, \"status\":status, \"set_temp\":set_temp, \"power_level\":power_level, \"zone_temp\":zone_temp, \"zone_humidity\":zone_humidity }\n",
    "\n",
    "    zone_dict[zone].update(zone_data_dict)\n",
    "    "
   ]
  },
  {
   "cell_type": "code",
   "execution_count": 538,
   "metadata": {},
   "outputs": [
    {
     "name": "stdout",
     "output_type": "stream",
     "text": [
      "                         time         zone  mode  geo_override     type  \\\n",
      "2  2023-12-16 13:41:49.290898        Study  HOME         False  HEATING   \n",
      "6  2023-12-16 13:41:49.290898      Kitchen  HOME         False  HEATING   \n",
      "3  2023-12-16 13:41:49.290898      Bedroom  HOME         False  HEATING   \n",
      "1  2023-12-16 13:41:49.290898  Living Room  HOME         False  HEATING   \n",
      "\n",
      "  status  set_temp  power_level  zone_temp  zone_humidity  \n",
      "2     ON      20.0        100.0      19.44           66.1  \n",
      "6     ON      21.0          0.0      21.83           57.4  \n",
      "3     ON      20.0         12.0      20.04           62.6  \n",
      "1     ON      20.0         21.0      19.79           63.4  \n"
     ]
    }
   ],
   "source": [
    "zone_df = pd.DataFrame.from_dict(zone_dict, orient=\"index\")"
   ]
  },
  {
   "cell_type": "code",
   "execution_count": 539,
   "metadata": {},
   "outputs": [
    {
     "name": "stdout",
     "output_type": "stream",
     "text": [
      "   zone_id                        time         zone  mode  geo_override  \\\n",
      "0        2  2023-12-16 13:41:49.290898        Study  HOME         False   \n",
      "1        6  2023-12-16 13:41:49.290898      Kitchen  HOME         False   \n",
      "2        3  2023-12-16 13:41:49.290898      Bedroom  HOME         False   \n",
      "3        1  2023-12-16 13:41:49.290898  Living Room  HOME         False   \n",
      "\n",
      "      type status  set_temp  power_level  zone_temp  zone_humidity  \n",
      "0  HEATING     ON      20.0        100.0      19.44           66.1  \n",
      "1  HEATING     ON      21.0          0.0      21.83           57.4  \n",
      "2  HEATING     ON      20.0         12.0      20.04           62.6  \n",
      "3  HEATING     ON      20.0         21.0      19.79           63.4  \n"
     ]
    }
   ],
   "source": [
    "zone_df = zone_df.reset_index()\n",
    "zone_df= zone_df.rename(columns={\"index\":\"zone_id\"})"
   ]
  },
  {
   "cell_type": "code",
   "execution_count": 540,
   "metadata": {},
   "outputs": [
    {
     "name": "stdout",
     "output_type": "stream",
     "text": [
      "                            zone_id         zone  mode  geo_override     type  \\\n",
      "time                                                                            \n",
      "2023-12-16 13:41:49.290898        2        Study  HOME         False  HEATING   \n",
      "2023-12-16 13:41:49.290898        6      Kitchen  HOME         False  HEATING   \n",
      "2023-12-16 13:41:49.290898        3      Bedroom  HOME         False  HEATING   \n",
      "2023-12-16 13:41:49.290898        1  Living Room  HOME         False  HEATING   \n",
      "\n",
      "                           status  set_temp  power_level  zone_temp  \\\n",
      "time                                                                  \n",
      "2023-12-16 13:41:49.290898     ON      20.0        100.0      19.44   \n",
      "2023-12-16 13:41:49.290898     ON      21.0          0.0      21.83   \n",
      "2023-12-16 13:41:49.290898     ON      20.0         12.0      20.04   \n",
      "2023-12-16 13:41:49.290898     ON      20.0         21.0      19.79   \n",
      "\n",
      "                            zone_humidity  \n",
      "time                                       \n",
      "2023-12-16 13:41:49.290898           66.1  \n",
      "2023-12-16 13:41:49.290898           57.4  \n",
      "2023-12-16 13:41:49.290898           62.6  \n",
      "2023-12-16 13:41:49.290898           63.4  \n"
     ]
    }
   ],
   "source": [
    "zone_df = zone_df.set_index(\"time\")"
   ]
  },
  {
   "cell_type": "markdown",
   "metadata": {},
   "source": [
    "### Testing Get data from a Zone"
   ]
  },
  {
   "cell_type": "code",
   "execution_count": null,
   "metadata": {},
   "outputs": [],
   "source": [
    "zone = 1"
   ]
  },
  {
   "cell_type": "code",
   "execution_count": null,
   "metadata": {},
   "outputs": [],
   "source": [
    "zone_url = zones_list_url+\"/\"+str(zone)+\"/state\""
   ]
  },
  {
   "cell_type": "code",
   "execution_count": null,
   "metadata": {},
   "outputs": [],
   "source": [
    "zone_r = requests.get(zone_url , headers = header)"
   ]
  },
  {
   "cell_type": "code",
   "execution_count": null,
   "metadata": {},
   "outputs": [],
   "source": [
    "zone_json = zone_r.json()"
   ]
  },
  {
   "cell_type": "code",
   "execution_count": null,
   "metadata": {},
   "outputs": [],
   "source": [
    "print(zone_json)"
   ]
  },
  {
   "cell_type": "code",
   "execution_count": null,
   "metadata": {},
   "outputs": [],
   "source": [
    "mode = zone_json[\"tadoMode\"]\n",
    "geo_override = zone_json[\"geolocationOverride\"]\n",
    "type = zone_json[\"setting\"][\"type\"]\n",
    "status = zone_json[\"setting\"][\"power\"]\n",
    "set_temp = zone_json[\"setting\"][\"temperature\"][\"celsius\"]\n",
    "power_level = zone_json[\"activityDataPoints\"][\"heatingPower\"][\"percentage\"]\n",
    "zone_temp = zone_json[\"sensorDataPoints\"][\"insideTemperature\"][\"celsius\"]\n",
    "zone_temp = zone_json[\"sensorDataPoints\"][\"humidity\"][\"percentage\"]"
   ]
  },
  {
   "cell_type": "code",
   "execution_count": null,
   "metadata": {},
   "outputs": [],
   "source": [
    "zone_temp = zone_json[\"sensorDataPoints\"][\"humidity\"][\"percentage\"]"
   ]
  },
  {
   "cell_type": "code",
   "execution_count": null,
   "metadata": {},
   "outputs": [],
   "source": [
    "print(json.dumps(zone_r.json(), indent=2))"
   ]
  },
  {
   "cell_type": "code",
   "execution_count": null,
   "metadata": {},
   "outputs": [],
   "source": [
    "json_test = zone_r.json()"
   ]
  },
  {
   "cell_type": "code",
   "execution_count": null,
   "metadata": {},
   "outputs": [],
   "source": [
    "json_test[\"sensorDataPoints\"][\"insideTemperature\"][\"celsius\"]"
   ]
  },
  {
   "cell_type": "code",
   "execution_count": null,
   "metadata": {},
   "outputs": [],
   "source": [
    "json_test[\"sensorDataPoints\"][\"humidity\"][\"percentage\"]"
   ]
  },
  {
   "cell_type": "markdown",
   "metadata": {},
   "source": [
    "### Test Weather"
   ]
  },
  {
   "cell_type": "code",
   "execution_count": null,
   "metadata": {},
   "outputs": [],
   "source": [
    "weather_url = \"https://my.tado.com/api/v2/homes/\"+str(home_id)+\"/weather\""
   ]
  },
  {
   "cell_type": "code",
   "execution_count": null,
   "metadata": {},
   "outputs": [],
   "source": [
    "r = requests.get(weather_url , headers = header)"
   ]
  },
  {
   "cell_type": "code",
   "execution_count": null,
   "metadata": {},
   "outputs": [],
   "source": [
    "# print(json.dumps(r.json(), indent=2))"
   ]
  },
  {
   "cell_type": "code",
   "execution_count": null,
   "metadata": {},
   "outputs": [],
   "source": [
    "test_json = r.json()"
   ]
  },
  {
   "cell_type": "code",
   "execution_count": null,
   "metadata": {},
   "outputs": [],
   "source": [
    "json_df = pd.DataFrame.from_dict(test_json)"
   ]
  },
  {
   "cell_type": "code",
   "execution_count": null,
   "metadata": {},
   "outputs": [],
   "source": [
    "test_json[\"weatherState\"][\"value\"]"
   ]
  },
  {
   "cell_type": "code",
   "execution_count": null,
   "metadata": {},
   "outputs": [],
   "source": [
    "test_json[\"outsideTemperature\"][\"celsius\"]"
   ]
  },
  {
   "cell_type": "markdown",
   "metadata": {},
   "source": [
    "### Get Weather data and put into a dataframe"
   ]
  },
  {
   "cell_type": "code",
   "execution_count": null,
   "metadata": {},
   "outputs": [],
   "source": [
    "weather_json = r.json()"
   ]
  },
  {
   "cell_type": "code",
   "execution_count": null,
   "metadata": {},
   "outputs": [],
   "source": [
    "weather_data = [weather_json[\"outsideTemperature\"][\"celsius\"], weather_json[\"weatherState\"][\"value\"], \"tado\"]"
   ]
  },
  {
   "cell_type": "code",
   "execution_count": null,
   "metadata": {},
   "outputs": [],
   "source": [
    "weather_columns = [\"temperature_C\", \"state\", \"source\"]"
   ]
  },
  {
   "cell_type": "code",
   "execution_count": null,
   "metadata": {},
   "outputs": [],
   "source": [
    "weather_df = pd.DataFrame(data=[weather_data], index=[now], columns=weather_columns)"
   ]
  }
 ],
 "metadata": {
  "kernelspec": {
   "display_name": "base",
   "language": "python",
   "name": "python3"
  },
  "language_info": {
   "codemirror_mode": {
    "name": "ipython",
    "version": 3
   },
   "file_extension": ".py",
   "mimetype": "text/x-python",
   "name": "python",
   "nbconvert_exporter": "python",
   "pygments_lexer": "ipython3",
   "version": "3.8.18"
  }
 },
 "nbformat": 4,
 "nbformat_minor": 2
}
