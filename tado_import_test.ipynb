{
 "cells": [
  {
   "cell_type": "code",
   "execution_count": 135,
   "metadata": {},
   "outputs": [],
   "source": [
    "import requests\n",
    "import json\n",
    "import pandas as pd\n",
    "from datetime import datetime"
   ]
  },
  {
   "cell_type": "markdown",
   "metadata": {},
   "source": [
    "### Set the time for Now"
   ]
  },
  {
   "cell_type": "code",
   "execution_count": 136,
   "metadata": {},
   "outputs": [],
   "source": [
    "now = datetime.utcnow()"
   ]
  },
  {
   "cell_type": "markdown",
   "metadata": {},
   "source": [
    "### Get bearer token"
   ]
  },
  {
   "cell_type": "code",
   "execution_count": 137,
   "metadata": {},
   "outputs": [],
   "source": [
    "username = \"timothy_woodland@outlook.com\"\n",
    "password = \"@j-tLtrR8F\"\n",
    "client_secret = 'wZaRN7rpjn3FoNyF5IFuxg9uMzYJcvOoQ8QWiIqS3hfk6gLhVlG57j5YNoZL2Rtc'"
   ]
  },
  {
   "cell_type": "code",
   "execution_count": 138,
   "metadata": {},
   "outputs": [],
   "source": [
    "payload = {'client_id':'tado-web-app',\n",
    "            'grant_type':'password',\n",
    "            'scope':'home.user',\n",
    "            'username':username,\n",
    "            'password':password,\n",
    "            'client_secret':client_secret}"
   ]
  },
  {
   "cell_type": "code",
   "execution_count": 139,
   "metadata": {},
   "outputs": [],
   "source": [
    "token_r = requests.post('https://auth.tado.com/oauth/token', params=payload)\n",
    "token = token_r.json()[\"access_token\"]\n",
    "# print(token)"
   ]
  },
  {
   "cell_type": "markdown",
   "metadata": {},
   "source": [
    "### Set Header for future Requests"
   ]
  },
  {
   "cell_type": "code",
   "execution_count": 140,
   "metadata": {},
   "outputs": [],
   "source": [
    "header = {'Authorization' : \"Bearer \" + token}"
   ]
  },
  {
   "cell_type": "markdown",
   "metadata": {},
   "source": [
    "### Get Home ID"
   ]
  },
  {
   "cell_type": "code",
   "execution_count": 141,
   "metadata": {},
   "outputs": [],
   "source": [
    "home_id_r = requests.get(\"https://my.tado.com/api/v1/me\", headers = header)\n",
    "home_id = home_id_r.json()['homeId']\n",
    "# print(home_id)"
   ]
  },
  {
   "cell_type": "markdown",
   "metadata": {},
   "source": [
    "### Get name of home"
   ]
  },
  {
   "cell_type": "code",
   "execution_count": 142,
   "metadata": {},
   "outputs": [],
   "source": [
    "home_url = \"https://my.tado.com/api/v2/homes/\"+str(home_id)\n",
    "home_r = requests.get(home_url , headers = header)"
   ]
  },
  {
   "cell_type": "code",
   "execution_count": 143,
   "metadata": {},
   "outputs": [],
   "source": [
    "home = home_r.json()[\"name\"]"
   ]
  },
  {
   "cell_type": "code",
   "execution_count": 144,
   "metadata": {},
   "outputs": [
    {
     "name": "stdout",
     "output_type": "stream",
     "text": [
      "Leslie Road\n"
     ]
    }
   ],
   "source": [
    "print(home)"
   ]
  },
  {
   "cell_type": "markdown",
   "metadata": {},
   "source": [
    "### Get zone data"
   ]
  },
  {
   "cell_type": "code",
   "execution_count": 145,
   "metadata": {},
   "outputs": [],
   "source": [
    "zones_list_url = home_url+\"/zones\""
   ]
  },
  {
   "cell_type": "code",
   "execution_count": 146,
   "metadata": {},
   "outputs": [],
   "source": [
    "zone_list_r = requests.get(zones_list_url , headers = header)"
   ]
  },
  {
   "cell_type": "code",
   "execution_count": 147,
   "metadata": {},
   "outputs": [],
   "source": [
    "zone_list_json = zone_list_r.json()\n",
    "# print(json.dumps(zone_list_json, indent=1))"
   ]
  },
  {
   "cell_type": "code",
   "execution_count": 148,
   "metadata": {},
   "outputs": [],
   "source": [
    "zone_list = []\n",
    "zone_dict = {}\n",
    "counter = 1\n",
    "\n",
    "\n",
    "for zone_data in zone_list_json:\n",
    "    zone_id = zone_data[\"id\"]\n",
    "    zone_name = zone_data[\"name\"]\n",
    "\n",
    "    zone_list.append(zone_id)\n",
    "    \n",
    "    zone_dict[zone_id] = {\"time\":str(now), \"zone\":zone_name}\n",
    "\n",
    "    counter = counter + 1"
   ]
  },
  {
   "cell_type": "markdown",
   "metadata": {},
   "source": [
    "### Get data from each zone and put into a dataframe"
   ]
  },
  {
   "cell_type": "code",
   "execution_count": 149,
   "metadata": {},
   "outputs": [],
   "source": [
    "# for zone in zone_list:\n",
    "#     zone_url = zones_list_url+\"/\"+str(zone)+\"/state\"\n",
    "#     zone_r = requests.get(zone_url, headers = header)\n",
    "#     zone_json = zone_r.json()\n",
    "\n",
    "#     mode = zone_json[\"tadoMode\"]\n",
    "#     geo_override = zone_json[\"geolocationOverride\"]\n",
    "#     type = zone_json[\"setting\"][\"type\"]\n",
    "#     status = zone_json[\"setting\"][\"power\"]\n",
    "#     set_temp = zone_json[\"setting\"][\"temperature\"][\"celsius\"]\n",
    "#     power_level = zone_json[\"activityDataPoints\"][\"heatingPower\"][\"percentage\"]\n",
    "#     zone_temp = zone_json[\"sensorDataPoints\"][\"insideTemperature\"][\"celsius\"]\n",
    "#     zone_humidity = zone_json[\"sensorDataPoints\"][\"humidity\"][\"percentage\"]\n",
    "\n",
    "#     zone_data_dict = {\"mode\":mode, \"geo_override\":geo_override, \"type\":type, \"status\":status, \"set_temp\":set_temp, \"power_level\":power_level, \"zone_temp\":zone_temp, \"zone_humidity\":zone_humidity }\n",
    "\n",
    "#     zone_dict[zone].update(zone_data_dict)\n",
    "    "
   ]
  },
  {
   "cell_type": "code",
   "execution_count": 150,
   "metadata": {},
   "outputs": [],
   "source": [
    "# zone_df = pd.DataFrame.from_dict(zone_dict, orient=\"index\")"
   ]
  },
  {
   "cell_type": "code",
   "execution_count": 151,
   "metadata": {},
   "outputs": [],
   "source": [
    "# zone_df = zone_df.reset_index()\n",
    "# zone_df= zone_df.rename(columns={\"index\":\"zone_id\"})"
   ]
  },
  {
   "cell_type": "code",
   "execution_count": 152,
   "metadata": {},
   "outputs": [],
   "source": [
    "# zone_df = zone_df.set_index(\"time\")"
   ]
  },
  {
   "cell_type": "markdown",
   "metadata": {},
   "source": [
    "### Testing Get data from a Zone"
   ]
  },
  {
   "cell_type": "code",
   "execution_count": 153,
   "metadata": {},
   "outputs": [],
   "source": [
    "zone = 3"
   ]
  },
  {
   "cell_type": "code",
   "execution_count": 154,
   "metadata": {},
   "outputs": [],
   "source": [
    "zone_url = zones_list_url+\"/\"+str(zone)+\"/state\""
   ]
  },
  {
   "cell_type": "code",
   "execution_count": 155,
   "metadata": {},
   "outputs": [],
   "source": [
    "zone_r = requests.get(zone_url , headers = header)"
   ]
  },
  {
   "cell_type": "code",
   "execution_count": 156,
   "metadata": {},
   "outputs": [],
   "source": [
    "zone_json = zone_r.json()"
   ]
  },
  {
   "cell_type": "code",
   "execution_count": 157,
   "metadata": {},
   "outputs": [
    {
     "name": "stdout",
     "output_type": "stream",
     "text": [
      "{'tadoMode': 'HOME', 'geolocationOverride': False, 'geolocationOverrideDisableTime': None, 'preparation': None, 'setting': {'type': 'HEATING', 'power': 'OFF', 'temperature': None}, 'overlayType': 'MANUAL', 'overlay': {'type': 'MANUAL', 'setting': {'type': 'HEATING', 'power': 'OFF', 'temperature': None}, 'termination': {'type': 'TIMER', 'typeSkillBasedApp': 'NEXT_TIME_BLOCK', 'durationInSeconds': 1800, 'expiry': '2023-12-16T20:00:00Z', 'remainingTimeInSeconds': 17448, 'projectedExpiry': '2023-12-16T20:00:00Z'}}, 'openWindow': None, 'nextScheduleChange': {'start': '2023-12-16T20:00:00Z', 'setting': {'type': 'HEATING', 'power': 'ON', 'temperature': {'celsius': 18.0, 'fahrenheit': 64.4}}}, 'nextTimeBlock': {'start': '2023-12-16T20:00:00.000Z'}, 'link': {'state': 'ONLINE'}, 'activityDataPoints': {'heatingPower': {'type': 'PERCENTAGE', 'percentage': 0.0, 'timestamp': '2023-12-16T15:07:44.857Z'}}, 'sensorDataPoints': {'insideTemperature': {'celsius': 20.0, 'fahrenheit': 68.0, 'timestamp': '2023-12-16T15:07:48.877Z', 'type': 'TEMPERATURE', 'precision': {'celsius': 0.1, 'fahrenheit': 0.1}}, 'humidity': {'type': 'PERCENTAGE', 'percentage': 62.4, 'timestamp': '2023-12-16T15:07:48.877Z'}}}\n"
     ]
    }
   ],
   "source": [
    "print(zone_json)"
   ]
  },
  {
   "cell_type": "code",
   "execution_count": 158,
   "metadata": {},
   "outputs": [],
   "source": [
    "# mode = zone_json[\"tadoMode\"]\n",
    "# geo_override = zone_json[\"geolocationOverride\"]\n",
    "# type = zone_json[\"setting\"][\"type\"]\n",
    "# status = zone_json[\"setting\"][\"power\"]\n",
    "# set_temp = zone_json[\"setting\"][\"temperature\"][\"celsius\"]\n",
    "# power_level = zone_json[\"activityDataPoints\"][\"heatingPower\"][\"percentage\"]\n",
    "# zone_temp = zone_json[\"sensorDataPoints\"][\"insideTemperature\"][\"celsius\"]\n",
    "# zone_temp = zone_json[\"sensorDataPoints\"][\"humidity\"][\"percentage\"]"
   ]
  },
  {
   "cell_type": "code",
   "execution_count": 159,
   "metadata": {},
   "outputs": [],
   "source": [
    "zone_temp = zone_json[\"sensorDataPoints\"][\"humidity\"][\"percentage\"]"
   ]
  },
  {
   "cell_type": "code",
   "execution_count": 160,
   "metadata": {},
   "outputs": [
    {
     "name": "stdout",
     "output_type": "stream",
     "text": [
      "{\n",
      "  \"tadoMode\": \"HOME\",\n",
      "  \"geolocationOverride\": false,\n",
      "  \"geolocationOverrideDisableTime\": null,\n",
      "  \"preparation\": null,\n",
      "  \"setting\": {\n",
      "    \"type\": \"HEATING\",\n",
      "    \"power\": \"OFF\",\n",
      "    \"temperature\": null\n",
      "  },\n",
      "  \"overlayType\": \"MANUAL\",\n",
      "  \"overlay\": {\n",
      "    \"type\": \"MANUAL\",\n",
      "    \"setting\": {\n",
      "      \"type\": \"HEATING\",\n",
      "      \"power\": \"OFF\",\n",
      "      \"temperature\": null\n",
      "    },\n",
      "    \"termination\": {\n",
      "      \"type\": \"TIMER\",\n",
      "      \"typeSkillBasedApp\": \"NEXT_TIME_BLOCK\",\n",
      "      \"durationInSeconds\": 1800,\n",
      "      \"expiry\": \"2023-12-16T20:00:00Z\",\n",
      "      \"remainingTimeInSeconds\": 17448,\n",
      "      \"projectedExpiry\": \"2023-12-16T20:00:00Z\"\n",
      "    }\n",
      "  },\n",
      "  \"openWindow\": null,\n",
      "  \"nextScheduleChange\": {\n",
      "    \"start\": \"2023-12-16T20:00:00Z\",\n",
      "    \"setting\": {\n",
      "      \"type\": \"HEATING\",\n",
      "      \"power\": \"ON\",\n",
      "      \"temperature\": {\n",
      "        \"celsius\": 18.0,\n",
      "        \"fahrenheit\": 64.4\n",
      "      }\n",
      "    }\n",
      "  },\n",
      "  \"nextTimeBlock\": {\n",
      "    \"start\": \"2023-12-16T20:00:00.000Z\"\n",
      "  },\n",
      "  \"link\": {\n",
      "    \"state\": \"ONLINE\"\n",
      "  },\n",
      "  \"activityDataPoints\": {\n",
      "    \"heatingPower\": {\n",
      "      \"type\": \"PERCENTAGE\",\n",
      "      \"percentage\": 0.0,\n",
      "      \"timestamp\": \"2023-12-16T15:07:44.857Z\"\n",
      "    }\n",
      "  },\n",
      "  \"sensorDataPoints\": {\n",
      "    \"insideTemperature\": {\n",
      "      \"celsius\": 20.0,\n",
      "      \"fahrenheit\": 68.0,\n",
      "      \"timestamp\": \"2023-12-16T15:07:48.877Z\",\n",
      "      \"type\": \"TEMPERATURE\",\n",
      "      \"precision\": {\n",
      "        \"celsius\": 0.1,\n",
      "        \"fahrenheit\": 0.1\n",
      "      }\n",
      "    },\n",
      "    \"humidity\": {\n",
      "      \"type\": \"PERCENTAGE\",\n",
      "      \"percentage\": 62.4,\n",
      "      \"timestamp\": \"2023-12-16T15:07:48.877Z\"\n",
      "    }\n",
      "  }\n",
      "}\n"
     ]
    }
   ],
   "source": [
    "print(json.dumps(zone_r.json(), indent=2))"
   ]
  },
  {
   "cell_type": "code",
   "execution_count": 161,
   "metadata": {},
   "outputs": [],
   "source": [
    "json_test = zone_r.json()"
   ]
  },
  {
   "cell_type": "code",
   "execution_count": 162,
   "metadata": {},
   "outputs": [
    {
     "data": {
      "text/plain": [
       "20.0"
      ]
     },
     "execution_count": 162,
     "metadata": {},
     "output_type": "execute_result"
    }
   ],
   "source": [
    "json_test[\"sensorDataPoints\"][\"insideTemperature\"][\"celsius\"]"
   ]
  },
  {
   "cell_type": "code",
   "execution_count": 163,
   "metadata": {},
   "outputs": [
    {
     "data": {
      "text/plain": [
       "62.4"
      ]
     },
     "execution_count": 163,
     "metadata": {},
     "output_type": "execute_result"
    }
   ],
   "source": [
    "json_test[\"sensorDataPoints\"][\"humidity\"][\"percentage\"]"
   ]
  },
  {
   "cell_type": "markdown",
   "metadata": {},
   "source": [
    "### Test Weather"
   ]
  },
  {
   "cell_type": "code",
   "execution_count": 164,
   "metadata": {},
   "outputs": [],
   "source": [
    "weather_url = \"https://my.tado.com/api/v2/homes/\"+str(home_id)+\"/weather\""
   ]
  },
  {
   "cell_type": "code",
   "execution_count": 165,
   "metadata": {},
   "outputs": [],
   "source": [
    "r = requests.get(weather_url , headers = header)"
   ]
  },
  {
   "cell_type": "code",
   "execution_count": 166,
   "metadata": {},
   "outputs": [],
   "source": [
    "# print(json.dumps(r.json(), indent=2))"
   ]
  },
  {
   "cell_type": "code",
   "execution_count": 167,
   "metadata": {},
   "outputs": [],
   "source": [
    "test_json = r.json()"
   ]
  },
  {
   "cell_type": "code",
   "execution_count": 168,
   "metadata": {},
   "outputs": [],
   "source": [
    "json_df = pd.DataFrame.from_dict(test_json)"
   ]
  },
  {
   "cell_type": "code",
   "execution_count": 169,
   "metadata": {},
   "outputs": [
    {
     "data": {
      "text/plain": [
       "'CLOUDY'"
      ]
     },
     "execution_count": 169,
     "metadata": {},
     "output_type": "execute_result"
    }
   ],
   "source": [
    "test_json[\"weatherState\"][\"value\"]"
   ]
  },
  {
   "cell_type": "code",
   "execution_count": 170,
   "metadata": {},
   "outputs": [
    {
     "data": {
      "text/plain": [
       "10.86"
      ]
     },
     "execution_count": 170,
     "metadata": {},
     "output_type": "execute_result"
    }
   ],
   "source": [
    "test_json[\"outsideTemperature\"][\"celsius\"]"
   ]
  },
  {
   "cell_type": "markdown",
   "metadata": {},
   "source": [
    "### Get Weather data and put into a dataframe"
   ]
  },
  {
   "cell_type": "code",
   "execution_count": 171,
   "metadata": {},
   "outputs": [],
   "source": [
    "weather_json = r.json()"
   ]
  },
  {
   "cell_type": "code",
   "execution_count": 172,
   "metadata": {},
   "outputs": [],
   "source": [
    "weather_data = [weather_json[\"outsideTemperature\"][\"celsius\"], weather_json[\"weatherState\"][\"value\"], \"tado\"]"
   ]
  },
  {
   "cell_type": "code",
   "execution_count": 173,
   "metadata": {},
   "outputs": [],
   "source": [
    "weather_columns = [\"temperature_C\", \"state\", \"source\"]"
   ]
  },
  {
   "cell_type": "code",
   "execution_count": 174,
   "metadata": {},
   "outputs": [],
   "source": [
    "weather_df = pd.DataFrame(data=[weather_data], index=[now], columns=weather_columns)"
   ]
  }
 ],
 "metadata": {
  "kernelspec": {
   "display_name": "base",
   "language": "python",
   "name": "python3"
  },
  "language_info": {
   "codemirror_mode": {
    "name": "ipython",
    "version": 3
   },
   "file_extension": ".py",
   "mimetype": "text/x-python",
   "name": "python",
   "nbconvert_exporter": "python",
   "pygments_lexer": "ipython3",
   "version": "3.8.18"
  }
 },
 "nbformat": 4,
 "nbformat_minor": 2
}
